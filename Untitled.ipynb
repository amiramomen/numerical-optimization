{
 "cells": [
  {
   "cell_type": "code",
   "execution_count": 1,
   "id": "e85dc7da",
   "metadata": {},
   "outputs": [],
   "source": [
    "import numpy as np\n",
    "import matplotlib.pyplot as plt\n",
    "%matplotlib inline"
   ]
  },
  {
   "cell_type": "code",
   "execution_count": 2,
   "id": "faf13f1a",
   "metadata": {},
   "outputs": [
    {
     "data": {
      "text/plain": [
       "array([[ 73.,  80.,  75., 152.],\n",
       "       [ 93.,  88.,  93., 185.],\n",
       "       [ 89.,  91.,  90., 180.],\n",
       "       [ 96.,  98., 100., 196.],\n",
       "       [ 73.,  66.,  70., 142.],\n",
       "       [ 53.,  46.,  55., 101.],\n",
       "       [ 69.,  74.,  77., 149.],\n",
       "       [ 47.,  56.,  60., 115.],\n",
       "       [ 87.,  79.,  90., 175.],\n",
       "       [ 79.,  70.,  88., 164.],\n",
       "       [ 69.,  70.,  73., 141.],\n",
       "       [ 70.,  65.,  74., 141.],\n",
       "       [ 93.,  95.,  91., 184.],\n",
       "       [ 79.,  80.,  73., 152.],\n",
       "       [ 70.,  73.,  78., 148.],\n",
       "       [ 93.,  89.,  96., 192.],\n",
       "       [ 78.,  75.,  68., 147.],\n",
       "       [ 81.,  90.,  93., 183.],\n",
       "       [ 88.,  92.,  86., 177.],\n",
       "       [ 78.,  83.,  77., 159.],\n",
       "       [ 82.,  86.,  90., 177.],\n",
       "       [ 86.,  82.,  89., 175.],\n",
       "       [ 78.,  83.,  85., 175.],\n",
       "       [ 76.,  83.,  71., 149.],\n",
       "       [ 96.,  93.,  95., 192.]])"
      ]
     },
     "execution_count": 2,
     "metadata": {},
     "output_type": "execute_result"
    }
   ],
   "source": [
    "data = np.genfromtxt('MultiVarLR - MultiVarLR.csv',delimiter=',')\n",
    "data"
   ]
  },
  {
   "cell_type": "markdown",
   "id": "39abd386",
   "metadata": {},
   "source": [
    "## BFGS\n",
    "- Implement the <b>BFGS</b> as a function and find the minimum of the following function:\n",
    "    - $𝒇(𝒙)=𝒙^𝟐+y^2$\n",
    "    - $𝒇(𝒙)=𝒙^𝟐+xy+y^2$  \n",
    "    - $𝒇(𝒙)=𝒙^𝟐y$ \n",
    "- The stop condition is grad < epsilon.\n",
    "- Try different epsilons and initial conditions.\n",
    "- Compare the results from Gradient descent and Newton's method."
   ]
  },
  {
   "cell_type": "code",
   "execution_count": 4,
   "id": "c1c6b8dd",
   "metadata": {},
   "outputs": [],
   "source": [
    "f_1 = lambda x: x**2  + y**2\n",
    "Df_1 = lambda X: np.array([2*X[0],2*X[1]])\n",
    "DDf_1 = lambda X: np.array([[2,0],\n",
    "                         [0,2]])"
   ]
  },
  {
   "cell_type": "code",
   "execution_count": null,
   "id": "de93723e",
   "metadata": {},
   "outputs": [],
   "source": [
    "def bfgs(lr,x0,xk,e,it):\n",
    "    i = 0\n",
    "    grad_x0 = Df_1(x0)\n",
    "    grad_xk = Df_1(xk)\n",
    "    B_inv = np.eye(2)\n",
    "    \n",
    "    while(i < it and np.linalg.norm(grad_x0) >= e):\n",
    "        delta_x = x0 - xk\n",
    "        y = (grad_x0 - grad_xk).T\n",
    "        B_inv = (np.eye(2) - (delta_x@y)/(y@delta_x))@B_inv@((np.eye(2) - (y.T@delta_x.T)/(y@delta_x))) +((delta_x@delta_x.T)/(y@delta_x))\n",
    "        xk = x0\n",
    "        x0 = x0 - lr*(B_inv@grad_x0)\n",
    "        grad_x0 = Df_1(x0)\n",
    "        grad_xk = Df_1(xk)\n",
    "      #H_inv = np.linalg.inv(DDf_5(xy))\n",
    "\n",
    "        i += 1\n",
    "\n",
    "    print(f'Found solution after {i} iterations.')\n",
    "    print(f'x_min ={x0}')\n",
    "    print(f'Gradient ={grad_x0}')"
   ]
  },
  {
   "cell_type": "code",
   "execution_count": 10,
   "id": "2492545a",
   "metadata": {},
   "outputs": [
    {
     "data": {
      "text/plain": [
       "array([[0.],\n",
       "       [0.],\n",
       "       [0.],\n",
       "       [0.]])"
      ]
     },
     "execution_count": 10,
     "metadata": {},
     "output_type": "execute_result"
    }
   ],
   "source": [
    "hetas = np.zeros(data.shape[1]).reshape(-1,1)\n",
    "hetas"
   ]
  },
  {
   "cell_type": "code",
   "execution_count": null,
   "id": "4d57e83f",
   "metadata": {},
   "outputs": [],
   "source": [
    "def bfgs_multi(data,lr,e,it):  \n",
    "    \n",
    "    x = data[:,:-1]\n",
    "    x=np.concatenate((np.ones(data.shape[0])[:,np.newaxis],x),axis=1)\n",
    "    y=data[:,-1].reshape(-1,1)\n",
    "    \n",
    "    x0=np.array([[0.01, 0.01]]).T\n",
    "\n",
    "    \n",
    "    theta0 = np.zeros(data.shape[1]).reshape(-1,1)\n",
    "    \n",
    "    thetas=thetas.T\n",
    "    lr = 0.0001\n",
    "    m = len(x2)\n",
    "    i=0\n",
    "    jj = []\n",
    "    while(True):\n",
    "        print(f'****************** Iteration {i} ********************')\n",
    "        y_pr = x2@thetas\n",
    "        print (f'h(x):{y_pr}\\n')\n",
    "\n",
    "        e = y_pr-(y2.reshape(25,1))\n",
    "        print (f'Error Vector:{e}\\n')\n",
    "\n",
    "        jj.append((e.T@e)/(2*m))\n",
    "        print (f'j={jj[i]}')\n",
    "\n",
    "        grad_thetas = x2.T@e/m\n",
    "        print(f'Gradient Vector:{grad_thetas}\\n')\n",
    "\n",
    "        grad_vec_norm = np.linalg.norm(grad_thetas)\n",
    "        print(f'Gradient Vector Norm:{grad_vec_norm}')\n",
    "\n",
    "\n",
    "        if (grad_vec_norm<.1):\n",
    "            break\n",
    "\n",
    "        thetas = thetas - lr*grad_thetas\n",
    "\n",
    "        i+=1"
   ]
  },
  {
   "cell_type": "code",
   "execution_count": null,
   "id": "c7ff0c61",
   "metadata": {},
   "outputs": [],
   "source": []
  }
 ],
 "metadata": {
  "kernelspec": {
   "display_name": "Python 3 (ipykernel)",
   "language": "python",
   "name": "python3"
  },
  "language_info": {
   "codemirror_mode": {
    "name": "ipython",
    "version": 3
   },
   "file_extension": ".py",
   "mimetype": "text/x-python",
   "name": "python",
   "nbconvert_exporter": "python",
   "pygments_lexer": "ipython3",
   "version": "3.10.4"
  }
 },
 "nbformat": 4,
 "nbformat_minor": 5
}
